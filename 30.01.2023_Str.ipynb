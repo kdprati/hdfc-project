{
 "cells": [
  {
   "cell_type": "code",
   "execution_count": null,
   "id": "efa27a6e",
   "metadata": {},
   "outputs": [],
   "source": [
    "String:\n",
    "    it is collection of char arranged in some meaningfull manner\n",
    "    it is immutable type DS\n",
    "    define : ' ' ,\" \",''' ''',\"\"\"\"\"\""
   ]
  },
  {
   "cell_type": "code",
   "execution_count": null,
   "id": "0b8cf8e1",
   "metadata": {},
   "outputs": [],
   "source": []
  },
  {
   "cell_type": "code",
   "execution_count": 2,
   "id": "378032dc",
   "metadata": {},
   "outputs": [],
   "source": [
    "a = \"this is a DS class it's having multiple technology\""
   ]
  },
  {
   "cell_type": "code",
   "execution_count": null,
   "id": "d08ed054",
   "metadata": {},
   "outputs": [],
   "source": [
    "data -- '"
   ]
  },
  {
   "cell_type": "code",
   "execution_count": 3,
   "id": "c4fabdda",
   "metadata": {},
   "outputs": [
    {
     "data": {
      "text/plain": [
       "\"this is a DS class it's having multiple technology\""
      ]
     },
     "execution_count": 3,
     "metadata": {},
     "output_type": "execute_result"
    }
   ],
   "source": [
    "a"
   ]
  },
  {
   "cell_type": "code",
   "execution_count": 4,
   "id": "6a897d05",
   "metadata": {},
   "outputs": [
    {
     "ename": "SyntaxError",
     "evalue": "invalid syntax (3358966325.py, line 1)",
     "output_type": "error",
     "traceback": [
      "\u001b[1;36m  Input \u001b[1;32mIn [4]\u001b[1;36m\u001b[0m\n\u001b[1;33m    a = \"this is a DS class \"its\" having multiple technology\"\u001b[0m\n\u001b[1;37m                             ^\u001b[0m\n\u001b[1;31mSyntaxError\u001b[0m\u001b[1;31m:\u001b[0m invalid syntax\n"
     ]
    }
   ],
   "source": [
    "a = \"this is a DS class \"its\" having multiple technology\""
   ]
  },
  {
   "cell_type": "code",
   "execution_count": 5,
   "id": "ea2e1543",
   "metadata": {},
   "outputs": [],
   "source": [
    "a = 'this is a DS class \"its\" having multiple technology'"
   ]
  },
  {
   "cell_type": "code",
   "execution_count": 6,
   "id": "2dd36ceb",
   "metadata": {},
   "outputs": [
    {
     "data": {
      "text/plain": [
       "'this is a DS class \"its\" having multiple technology'"
      ]
     },
     "execution_count": 6,
     "metadata": {},
     "output_type": "execute_result"
    }
   ],
   "source": [
    "a"
   ]
  },
  {
   "cell_type": "code",
   "execution_count": null,
   "id": "f47ad042",
   "metadata": {},
   "outputs": [],
   "source": [
    "' ' \n",
    "\" \"\n",
    "\n",
    "define single line string"
   ]
  },
  {
   "cell_type": "code",
   "execution_count": 43,
   "id": "3e1f6b01",
   "metadata": {},
   "outputs": [],
   "source": []
  },
  {
   "cell_type": "code",
   "execution_count": 18,
   "id": "8408bf7f",
   "metadata": {},
   "outputs": [
    {
     "name": "stdout",
     "output_type": "stream",
     "text": [
      "Choose whether to add Anaconda to your \n",
      "PATH environment variable or register Anaconda as \n",
      "your default Python. We don’t recommend adding Anaconda to\n",
      "your PATH environment '''variable''', since this can interfere with\n",
      "other software. Unless you plan on installing and running multiple \n",
      "versions of Anaconda or multiple versions of Python, accept the default \n",
      "and leave this box checked. Instead, use Anaconda software by opening Anaconda \n",
      "Navigator or the \n",
      "Anaconda Prompt from the Start Menu.\n"
     ]
    }
   ],
   "source": [
    "print(t)"
   ]
  },
  {
   "cell_type": "code",
   "execution_count": null,
   "id": "478851b5",
   "metadata": {},
   "outputs": [],
   "source": [
    "' ' or \" \"    --> single line string\n",
    "''' ''' or \"\"\"\"\"\" --> multiple line string"
   ]
  },
  {
   "cell_type": "code",
   "execution_count": null,
   "id": "0471c749",
   "metadata": {},
   "outputs": [],
   "source": [
    "doc string:\n",
    "    additional information about code"
   ]
  },
  {
   "cell_type": "code",
   "execution_count": 11,
   "id": "57323a4b",
   "metadata": {},
   "outputs": [],
   "source": [
    "#comment --> code non executable\n",
    "#doc string --> non executeable data"
   ]
  },
  {
   "cell_type": "code",
   "execution_count": null,
   "id": "f81f1e00",
   "metadata": {},
   "outputs": [],
   "source": [
    "comment -- # "
   ]
  },
  {
   "cell_type": "code",
   "execution_count": 14,
   "id": "147cfe32",
   "metadata": {},
   "outputs": [
    {
     "data": {
      "text/plain": [
       "'Choose whether to add Anaconda to your \\nPATH environment variable or register Anaconda as \\nyour default Python. We don’t recommend adding Anaconda to\\nyour PATH environment variable, since this can interfere with\\nother software. Unless you plan on installing and running multiple \\nversions of Anaconda or multiple versions of Python, accept the default \\nand leave this box checked. Instead, use Anaconda software by opening Anaconda \\nNavigator or the \\nAnaconda Prompt from the Start Menu.'"
      ]
     },
     "execution_count": 14,
     "metadata": {},
     "output_type": "execute_result"
    }
   ],
   "source": [
    "t"
   ]
  },
  {
   "cell_type": "code",
   "execution_count": 15,
   "id": "b010a525",
   "metadata": {},
   "outputs": [
    {
     "name": "stdout",
     "output_type": "stream",
     "text": [
      "Choose whether to add Anaconda to your \n",
      "PATH environment variable or register Anaconda as \n",
      "your default Python. We don’t recommend adding Anaconda to\n",
      "your PATH environment variable, since this can interfere with\n",
      "other software. Unless you plan on installing and running multiple \n",
      "versions of Anaconda or multiple versions of Python, accept the default \n",
      "and leave this box checked. Instead, use Anaconda software by opening Anaconda \n",
      "Navigator or the \n",
      "Anaconda Prompt from the Start Menu.\n"
     ]
    }
   ],
   "source": [
    "print(t)"
   ]
  },
  {
   "cell_type": "code",
   "execution_count": 20,
   "id": "7f7ec56d",
   "metadata": {},
   "outputs": [],
   "source": [
    "d = '''your default Python. We don’t recommend adding Anaconda to\n",
    "your PATH environment variable, since this can interfere with\n",
    "'''"
   ]
  },
  {
   "cell_type": "code",
   "execution_count": 21,
   "id": "9929b1ab",
   "metadata": {},
   "outputs": [
    {
     "data": {
      "text/plain": [
       "'your default Python. We don’t recommend adding Anaconda to\\nyour PATH environment variable, since this can interfere with\\n'"
      ]
     },
     "execution_count": 21,
     "metadata": {},
     "output_type": "execute_result"
    }
   ],
   "source": [
    "d"
   ]
  },
  {
   "cell_type": "code",
   "execution_count": 22,
   "id": "e8fbe0a7",
   "metadata": {},
   "outputs": [
    {
     "data": {
      "text/plain": [
       "'your default Python. We don’t recommend adding Anaconda to\\nyour PATH environment variable, since this can interfere with\\n'"
      ]
     },
     "execution_count": 22,
     "metadata": {},
     "output_type": "execute_result"
    }
   ],
   "source": [
    "d"
   ]
  },
  {
   "cell_type": "code",
   "execution_count": 30,
   "id": "1559d9e8",
   "metadata": {},
   "outputs": [],
   "source": [
    "a = 'python'"
   ]
  },
  {
   "cell_type": "code",
   "execution_count": 32,
   "id": "01be2357",
   "metadata": {},
   "outputs": [],
   "source": [
    "t = a.upper()"
   ]
  },
  {
   "cell_type": "code",
   "execution_count": 33,
   "id": "8e5ee053",
   "metadata": {},
   "outputs": [
    {
     "data": {
      "text/plain": [
       "'PYTHON'"
      ]
     },
     "execution_count": 33,
     "metadata": {},
     "output_type": "execute_result"
    }
   ],
   "source": [
    "t"
   ]
  },
  {
   "cell_type": "code",
   "execution_count": 34,
   "id": "02dbfb5f",
   "metadata": {},
   "outputs": [
    {
     "data": {
      "text/plain": [
       "'python'"
      ]
     },
     "execution_count": 34,
     "metadata": {},
     "output_type": "execute_result"
    }
   ],
   "source": [
    "a"
   ]
  },
  {
   "cell_type": "code",
   "execution_count": 35,
   "id": "4fa639dc",
   "metadata": {},
   "outputs": [],
   "source": [
    "t = 'JAVA'"
   ]
  },
  {
   "cell_type": "code",
   "execution_count": 38,
   "id": "93837302",
   "metadata": {},
   "outputs": [],
   "source": [
    "t1= t.lower()"
   ]
  },
  {
   "cell_type": "code",
   "execution_count": 39,
   "id": "df234fdb",
   "metadata": {},
   "outputs": [
    {
     "data": {
      "text/plain": [
       "'java'"
      ]
     },
     "execution_count": 39,
     "metadata": {},
     "output_type": "execute_result"
    }
   ],
   "source": [
    "t1"
   ]
  },
  {
   "cell_type": "code",
   "execution_count": 40,
   "id": "c6d37345",
   "metadata": {},
   "outputs": [
    {
     "data": {
      "text/plain": [
       "'JAVA'"
      ]
     },
     "execution_count": 40,
     "metadata": {},
     "output_type": "execute_result"
    }
   ],
   "source": [
    "t"
   ]
  },
  {
   "cell_type": "code",
   "execution_count": 41,
   "id": "d1d7e4e3",
   "metadata": {},
   "outputs": [
    {
     "data": {
      "text/plain": [
       "'your default Python. We don’t recommend adding Anaconda to\\nyour PATH environment variable, since this can interfere with\\n'"
      ]
     },
     "execution_count": 41,
     "metadata": {},
     "output_type": "execute_result"
    }
   ],
   "source": [
    "d"
   ]
  },
  {
   "cell_type": "code",
   "execution_count": 42,
   "id": "82058163",
   "metadata": {},
   "outputs": [
    {
     "data": {
      "text/plain": [
       "'YOUR DEFAULT PYTHON. WE DON’T RECOMMEND ADDING ANACONDA TO\\nYOUR PATH ENVIRONMENT VARIABLE, SINCE THIS CAN INTERFERE WITH\\n'"
      ]
     },
     "execution_count": 42,
     "metadata": {},
     "output_type": "execute_result"
    }
   ],
   "source": [
    "d.upper()"
   ]
  },
  {
   "cell_type": "code",
   "execution_count": 45,
   "id": "0bfedf90",
   "metadata": {},
   "outputs": [
    {
     "data": {
      "text/plain": [
       "\"CHOOSE WHETHER TO ADD ANACONDA TO YOUR \\nPATH ENVIRONMENT VARIABLE OR REGISTER ANACONDA AS \\nYOUR DEFAULT PYTHON. WE DON’T RECOMMEND ADDING ANACONDA TO\\nYOUR PATH ENVIRONMENT '''VARIABLE''', SINCE THIS CAN INTERFERE WITH\\nOTHER SOFTWARE. UNLESS YOU PLAN ON INSTALLING AND RUNNING MULTIPLE \\nVERSIONS OF ANACONDA OR MULTIPLE VERSIONS OF PYTHON, ACCEPT THE DEFAULT \\nAND LEAVE THIS BOX CHECKED. INSTEAD, USE ANACONDA SOFTWARE BY OPENING ANACONDA \\nNAVIGATOR OR THE \\nANACONDA PROMPT FROM THE START MENU.\""
      ]
     },
     "execution_count": 45,
     "metadata": {},
     "output_type": "execute_result"
    }
   ],
   "source": [
    "t.upper()"
   ]
  },
  {
   "cell_type": "code",
   "execution_count": 46,
   "id": "5e85ab65",
   "metadata": {},
   "outputs": [],
   "source": [
    "p = 'it is DS class'"
   ]
  },
  {
   "cell_type": "code",
   "execution_count": 47,
   "id": "e61a44e3",
   "metadata": {},
   "outputs": [
    {
     "data": {
      "text/plain": [
       "'It is ds class'"
      ]
     },
     "execution_count": 47,
     "metadata": {},
     "output_type": "execute_result"
    }
   ],
   "source": [
    "p.capitalize()"
   ]
  },
  {
   "cell_type": "code",
   "execution_count": 48,
   "id": "7a622568",
   "metadata": {},
   "outputs": [
    {
     "data": {
      "text/plain": [
       "\"Choose whether to add Anaconda to your \\nPATH environment variable or register Anaconda as \\nyour default Python. We don’t recommend adding Anaconda to\\nyour PATH environment '''variable''', since this can interfere with\\nother software. Unless you plan on installing and running multiple \\nversions of Anaconda or multiple versions of Python, accept the default \\nand leave this box checked. Instead, use Anaconda software by opening Anaconda \\nNavigator or the \\nAnaconda Prompt from the Start Menu.\""
      ]
     },
     "execution_count": 48,
     "metadata": {},
     "output_type": "execute_result"
    }
   ],
   "source": [
    "t"
   ]
  },
  {
   "cell_type": "code",
   "execution_count": 49,
   "id": "eef5c200",
   "metadata": {},
   "outputs": [
    {
     "data": {
      "text/plain": [
       "\"Choose whether to add anaconda to your \\npath environment variable or register anaconda as \\nyour default python. we don’t recommend adding anaconda to\\nyour path environment '''variable''', since this can interfere with\\nother software. unless you plan on installing and running multiple \\nversions of anaconda or multiple versions of python, accept the default \\nand leave this box checked. instead, use anaconda software by opening anaconda \\nnavigator or the \\nanaconda prompt from the start menu.\""
      ]
     },
     "execution_count": 49,
     "metadata": {},
     "output_type": "execute_result"
    }
   ],
   "source": [
    "t.capitalize()"
   ]
  },
  {
   "cell_type": "code",
   "execution_count": 50,
   "id": "564d928b",
   "metadata": {},
   "outputs": [
    {
     "data": {
      "text/plain": [
       "'it is DS class'"
      ]
     },
     "execution_count": 50,
     "metadata": {},
     "output_type": "execute_result"
    }
   ],
   "source": [
    "p"
   ]
  },
  {
   "cell_type": "code",
   "execution_count": 52,
   "id": "c053d13a",
   "metadata": {},
   "outputs": [
    {
     "data": {
      "text/plain": [
       "1"
      ]
     },
     "execution_count": 52,
     "metadata": {},
     "output_type": "execute_result"
    }
   ],
   "source": [
    "p.count('S')"
   ]
  },
  {
   "cell_type": "code",
   "execution_count": 53,
   "id": "67db3794",
   "metadata": {},
   "outputs": [
    {
     "data": {
      "text/plain": [
       "'it is DS class'"
      ]
     },
     "execution_count": 53,
     "metadata": {},
     "output_type": "execute_result"
    }
   ],
   "source": [
    "p"
   ]
  },
  {
   "cell_type": "code",
   "execution_count": null,
   "id": "6f8a3946",
   "metadata": {},
   "outputs": [],
   "source": []
  }
 ],
 "metadata": {
  "kernelspec": {
   "display_name": "Python 3 (ipykernel)",
   "language": "python",
   "name": "python3"
  },
  "language_info": {
   "codemirror_mode": {
    "name": "ipython",
    "version": 3
   },
   "file_extension": ".py",
   "mimetype": "text/x-python",
   "name": "python",
   "nbconvert_exporter": "python",
   "pygments_lexer": "ipython3",
   "version": "3.9.13"
  }
 },
 "nbformat": 4,
 "nbformat_minor": 5
}
